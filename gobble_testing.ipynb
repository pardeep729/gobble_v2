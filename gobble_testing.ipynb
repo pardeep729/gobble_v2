{
 "cells": [
  {
   "cell_type": "code",
   "execution_count": 4,
   "metadata": {},
   "outputs": [],
   "source": [
    "import os"
   ]
  },
  {
   "cell_type": "code",
   "execution_count": 9,
   "metadata": {},
   "outputs": [],
   "source": [
    "def abs_path(directory_rel):\n",
    "    \"\"\"\n",
    "    Returns an absolute path to the specified directory\n",
    "\n",
    "    Parameters:\n",
    "        directory_rel (str): Relative folder path\n",
    "\n",
    "    Returns:\n",
    "        directory_abs (str): Absolute path to the directory\n",
    "    \"\"\"\n",
    "    directory_abs = os.path.join(os.path.curdir, directory_rel)\n",
    "    return directory_abs"
   ]
  },
  {
   "cell_type": "code",
   "execution_count": 10,
   "metadata": {},
   "outputs": [
    {
     "name": "stdout",
     "output_type": "stream",
     "text": [
      "['ADAM', 'AINSLEY', 'AMAL', 'AMAR', 'ANOOP', 'ARIYAN', 'AVOCADO', 'BALJIT', 'BAREGEDDENET', 'CRANE', 'CRASH', 'DAD', 'DARTH VADER', 'DEMIT', 'DILDO', 'FUNKY HEADPHONES', 'GINGY', 'GLASSI', 'GORILLA', 'GOV', 'HEM', 'HEMS FOOT', 'HEY ARNOLD', 'JAT', 'JT', 'MAGIC', 'MANGO', 'MARIE', 'MIKE', 'MOM', 'MR BEAN', 'MR BURNS', 'NADS', 'NIM', 'OKEH', 'PIC OF MY HOUSE', 'PIKACHU', 'POKEBALL', 'PRAD', 'QAAS', 'RABBIT', 'REKHAS CHILLI', 'RICARDO', 'RICE', 'ROTI', 'RUBIX CRUBE', 'RUSH', 'SHREK', 'SOPHIE', 'STARK', 'TARGARYEN', 'THE CHILD', 'TURBAN', 'UKULELE', 'UNKNOWN P', 'VJ', 'WATERMELON']\n"
     ]
    }
   ],
   "source": [
    "directory_rel = \"images\"\n",
    "directory_abs = abs_path(directory_rel)\n",
    "filenames = [i.split('.')[0] for i in os.listdir(directory_abs)]\n",
    "print(filenames)"
   ]
  },
  {
   "cell_type": "code",
   "execution_count": null,
   "metadata": {},
   "outputs": [],
   "source": []
  }
 ],
 "metadata": {
  "interpreter": {
   "hash": "278a36768077690c6276af8081ae727eec4ecb104de42b20d6b6bd125dbea3fa"
  },
  "kernelspec": {
   "display_name": "Python 3.10.1 64-bit ('env': venv)",
   "language": "python",
   "name": "python3"
  },
  "language_info": {
   "codemirror_mode": {
    "name": "ipython",
    "version": 3
   },
   "file_extension": ".py",
   "mimetype": "text/x-python",
   "name": "python",
   "nbconvert_exporter": "python",
   "pygments_lexer": "ipython3",
   "version": "3.7.9"
  },
  "orig_nbformat": 4
 },
 "nbformat": 4,
 "nbformat_minor": 2
}
