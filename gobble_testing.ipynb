{
 "cells": [
  {
   "cell_type": "code",
   "execution_count": 1,
   "metadata": {},
   "outputs": [
    {
     "name": "stdout",
     "output_type": "stream",
     "text": [
      "pygame 2.0.1 (SDL 2.0.14, Python 3.7.9)\n",
      "Hello from the pygame community. https://www.pygame.org/contribute.html\n"
     ]
    }
   ],
   "source": [
    "import math\n",
    "\n",
    "import pygame\n",
    "\n",
    "from assets import Assets"
   ]
  },
  {
   "cell_type": "code",
   "execution_count": 2,
   "metadata": {},
   "outputs": [],
   "source": [
    "WINDOW_WIDTH = 1000 # Width of window\n",
    "WINDOW_HEIGHT = WINDOW_WIDTH # Height of window (square)\n",
    "WINDOW_SIZE = (WINDOW_WIDTH, WINDOW_HEIGHT)\n",
    "WINDOW = None # Global instance of window Surface\n",
    "FPS = 60 # Frames per second\n",
    "CARD_RADIUS = WINDOW_WIDTH / 2 # Radius of each card (=1/2 width of window)\n",
    "SYMBOLS_PER_CARD = 8 # Number of symbols per card "
   ]
  },
  {
   "cell_type": "code",
   "execution_count": 3,
   "metadata": {},
   "outputs": [
    {
     "name": "stdout",
     "output_type": "stream",
     "text": [
      "ADAM normalised from (420, 365) to (379, 329)\n",
      "AINSLEY normalised from (324, 433) to (305, 408)\n",
      "AMAL normalised from (217, 237) to (338, 369)\n",
      "AMAR normalised from (720, 929) to (311, 401)\n",
      "ANOOP normalised from (220, 363) to (275, 454)\n",
      "ARIYAN normalised from (873, 858) to (356, 350)\n",
      "AVOCADO normalised from (1543, 1892) to (319, 391)\n",
      "BALJIT normalised from (797, 1329) to (273, 456)\n",
      "BAREGEDDENET normalised from (526, 474) to (372, 335)\n",
      "CRANE normalised from (750, 744) to (354, 352)\n",
      "CRASH normalised from (398, 678) to (270, 461)\n",
      "DAD normalised from (427, 621) to (293, 426)\n",
      "DARTH VADER normalised from (214, 236) to (336, 371)\n",
      "DEMIT normalised from (135, 189) to (298, 418)\n",
      "DILDO normalised from (428, 419) to (357, 349)\n",
      "FUNKY HEADPHONES normalised from (1319, 1806) to (302, 413)\n",
      "GINGY normalised from (352, 541) to (285, 438)\n",
      "GLASSI normalised from (335, 1325) to (177, 703)\n",
      "GORILLA normalised from (176, 208) to (325, 384)\n",
      "GOV normalised from (861, 1245) to (294, 425)\n",
      "HEM normalised from (754, 1122) to (289, 431)\n",
      "HEMS FOOT normalised from (493, 958) to (253, 492)\n",
      "HEY ARNOLD normalised from (124, 320) to (220, 567)\n",
      "JAT normalised from (313, 463) to (290, 430)\n",
      "JT normalised from (755, 938) to (317, 394)\n",
      "MAGIC normalised from (1163, 1631) to (298, 418)\n",
      "MANGO normalised from (640, 480) to (408, 306)\n",
      "MARIE normalised from (792, 787) to (354, 352)\n",
      "MIKE normalised from (252, 348) to (300, 415)\n",
      "MOM normalised from (335, 561) to (273, 457)\n",
      "MR BEAN normalised from (451, 597) to (307, 406)\n",
      "MR BURNS normalised from (584, 1550) to (217, 575)\n",
      "NADS normalised from (94, 110) to (326, 382)\n",
      "NIM normalised from (246, 394) to (279, 447)\n",
      "OKEH normalised from (539, 780) to (293, 425)\n",
      "PIC OF MY HOUSE normalised from (564, 578) to (349, 357)\n",
      "PIKACHU normalised from (1191, 1254) to (344, 362)\n",
      "POKEBALL normalised from (1158, 1156) to (353, 353)\n",
      "PRAD normalised from (884, 1281) to (293, 425)\n",
      "QAAS normalised from (752, 1110) to (291, 429)\n",
      "RABBIT normalised from (359, 334) to (366, 341)\n",
      "REKHAS CHILLI normalised from (185, 458) to (224, 556)\n",
      "RICARDO normalised from (288, 291) to (351, 355)\n",
      "RICE normalised from (675, 478) to (420, 297)\n",
      "ROTI normalised from (426, 361) to (384, 325)\n",
      "RUBIX CRUBE normalised from (1188, 1246) to (345, 362)\n",
      "RUSH normalised from (132, 171) to (310, 402)\n",
      "SHREK normalised from (177, 177) to (353, 353)\n",
      "SOPHIE normalised from (519, 699) to (304, 410)\n",
      "STARK normalised from (480, 607) to (314, 397)\n",
      "TARGARYEN normalised from (379, 382) to (352, 354)\n",
      "THE CHILD normalised from (859, 895) to (346, 360)\n",
      "TURBAN normalised from (263, 308) to (326, 382)\n",
      "UKULELE normalised from (266, 340) to (312, 399)\n",
      "UNKNOWN P normalised from (327, 400) to (319, 391)\n",
      "VJ normalised from (367, 449) to (319, 391)\n",
      "WATERMELON normalised from (154, 327) to (242, 515)\n"
     ]
    },
    {
     "data": {
      "text/plain": [
       "<assets.Assets at 0x22c05585b08>"
      ]
     },
     "execution_count": 3,
     "metadata": {},
     "output_type": "execute_result"
    }
   ],
   "source": [
    "assets = Assets()\n",
    "assets.normalise_images(CARD_RADIUS, SYMBOLS_PER_CARD)\n",
    "assets"
   ]
  },
  {
   "cell_type": "code",
   "execution_count": 13,
   "metadata": {},
   "outputs": [
    {
     "data": {
      "text/plain": [
       "{'Name': 'ADAM',\n",
       " 'File path': 'c:\\\\Users\\\\Pardeep\\\\Documents\\\\GitHub\\\\gobble_v2\\\\images\\\\ADAM.png',\n",
       " 'Surface': <Surface(342x297x8 SW)>,\n",
       " 'Is Normalised?': True}"
      ]
     },
     "execution_count": 13,
     "metadata": {},
     "output_type": "execute_result"
    }
   ],
   "source": [
    "asset = assets.images[0]\n",
    "asset"
   ]
  },
  {
   "cell_type": "code",
   "execution_count": 6,
   "metadata": {},
   "outputs": [
    {
     "data": {
      "text/plain": [
       "{'Name': 'OKEH',\n",
       " 'File path': 'c:\\\\Users\\\\Pardeep\\\\Documents\\\\GitHub\\\\gobble_v2\\\\images\\\\OKEH.png',\n",
       " 'Surface': <Surface(293x425x8 SW)>,\n",
       " 'Is Normalised?': True}"
      ]
     },
     "execution_count": 6,
     "metadata": {},
     "output_type": "execute_result"
    }
   ],
   "source": [
    "assets.get_asset_from_name('OKEH')"
   ]
  },
  {
   "cell_type": "code",
   "execution_count": 8,
   "metadata": {},
   "outputs": [
    {
     "data": {
      "text/plain": [
       "<Surface(342x297x8 SW)>"
      ]
     },
     "execution_count": 8,
     "metadata": {},
     "output_type": "execute_result"
    }
   ],
   "source": [
    "surf = assets.images[0]['Surface']\n",
    "surf"
   ]
  },
  {
   "cell_type": "code",
   "execution_count": 30,
   "metadata": {},
   "outputs": [
    {
     "data": {
      "text/plain": [
       "<Surface(342x297x8 SW)>"
      ]
     },
     "execution_count": 30,
     "metadata": {},
     "output_type": "execute_result"
    }
   ],
   "source": [
    "new_area = (2 * CARD_RADIUS)**2 * (1/SYMBOLS_PER_CARD) # Target new area for each image\n",
    "\n",
    "# \"Old\" image attributes\n",
    "old_surf = surf\n",
    "old_width = old_surf.get_width()\n",
    "old_height = old_surf.get_height()\n",
    "old_area = old_width * old_height\n",
    "\n",
    "scale_factor = new_area / old_area # Scale factor for current image\n",
    "\n",
    "# New attributes\n",
    "new_width = math.floor(old_width * scale_factor)\n",
    "new_height = math.floor(old_height * scale_factor)\n",
    "\n",
    "new_surf = pygame.transform.scale(old_surf, (int(new_width), int(new_height)))\n",
    "new_surf"
   ]
  },
  {
   "cell_type": "code",
   "execution_count": 6,
   "metadata": {},
   "outputs": [
    {
     "ename": "NameError",
     "evalue": "name 'surf' is not defined",
     "output_type": "error",
     "traceback": [
      "\u001b[1;31m---------------------------------------------------------------------------\u001b[0m",
      "\u001b[1;31mNameError\u001b[0m                                 Traceback (most recent call last)",
      "\u001b[1;32m<ipython-input-6-8aa2e9fc80e4>\u001b[0m in \u001b[0;36m<module>\u001b[1;34m\u001b[0m\n\u001b[1;32m----> 1\u001b[1;33m \u001b[0msurf\u001b[0m\u001b[1;33m.\u001b[0m\u001b[0mget_size\u001b[0m\u001b[1;33m(\u001b[0m\u001b[1;33m)\u001b[0m\u001b[1;33m,\u001b[0m \u001b[0mnew_surf\u001b[0m\u001b[1;33m.\u001b[0m\u001b[0mget_size\u001b[0m\u001b[1;33m(\u001b[0m\u001b[1;33m)\u001b[0m\u001b[1;33m\u001b[0m\u001b[1;33m\u001b[0m\u001b[0m\n\u001b[0m",
      "\u001b[1;31mNameError\u001b[0m: name 'surf' is not defined"
     ]
    }
   ],
   "source": [
    "surf.get_size(), new_surf.get_size()"
   ]
  },
  {
   "cell_type": "code",
   "execution_count": 4,
   "metadata": {},
   "outputs": [],
   "source": []
  },
  {
   "cell_type": "code",
   "execution_count": 9,
   "metadata": {},
   "outputs": [
    {
     "ename": "error",
     "evalue": "display Surface quit",
     "output_type": "error",
     "traceback": [
      "\u001b[1;31m---------------------------------------------------------------------------\u001b[0m",
      "\u001b[1;31merror\u001b[0m                                     Traceback (most recent call last)",
      "\u001b[1;32m<ipython-input-9-1da093fdea56>\u001b[0m in \u001b[0;36m<module>\u001b[1;34m\u001b[0m\n\u001b[0;32m     17\u001b[0m             \u001b[0mpygame\u001b[0m\u001b[1;33m.\u001b[0m\u001b[0mquit\u001b[0m\u001b[1;33m(\u001b[0m\u001b[1;33m)\u001b[0m\u001b[1;33m\u001b[0m\u001b[1;33m\u001b[0m\u001b[0m\n\u001b[0;32m     18\u001b[0m \u001b[1;33m\u001b[0m\u001b[0m\n\u001b[1;32m---> 19\u001b[1;33m     \u001b[0mWINDOW\u001b[0m\u001b[1;33m.\u001b[0m\u001b[0mblit\u001b[0m\u001b[1;33m(\u001b[0m\u001b[0msurf\u001b[0m\u001b[1;33m,\u001b[0m \u001b[1;33m(\u001b[0m\u001b[1;36m100\u001b[0m\u001b[1;33m,\u001b[0m\u001b[1;36m100\u001b[0m\u001b[1;33m)\u001b[0m\u001b[1;33m)\u001b[0m\u001b[1;33m\u001b[0m\u001b[1;33m\u001b[0m\u001b[0m\n\u001b[0m\u001b[0;32m     20\u001b[0m \u001b[1;33m\u001b[0m\u001b[0m\n\u001b[0;32m     21\u001b[0m     \u001b[0mpygame\u001b[0m\u001b[1;33m.\u001b[0m\u001b[0mdisplay\u001b[0m\u001b[1;33m.\u001b[0m\u001b[0mupdate\u001b[0m\u001b[1;33m(\u001b[0m\u001b[1;33m)\u001b[0m\u001b[1;33m\u001b[0m\u001b[1;33m\u001b[0m\u001b[0m\n",
      "\u001b[1;31merror\u001b[0m: display Surface quit"
     ]
    }
   ],
   "source": [
    "WINDOW = pygame.display.set_mode(WINDOW_SIZE)\n",
    "\n",
    "# Set clock\n",
    "clock = pygame.time.Clock()\n",
    "\n",
    "# Start run loop\n",
    "run = True\n",
    "\n",
    "while run:\n",
    "    clock.tick(60) # Tick clock\n",
    "\n",
    "    ## Handle events\n",
    "    for event in pygame.event.get():\n",
    "        # Exit game\n",
    "        if event.type == pygame.QUIT:\n",
    "            run = False\n",
    "            pygame.quit()\n",
    "    \n",
    "    WINDOW.blit(surf, (100,100))\n",
    "\n",
    "    pygame.display.update()\n",
    "    pygame.display.flip()"
   ]
  },
  {
   "cell_type": "code",
   "execution_count": 10,
   "metadata": {},
   "outputs": [],
   "source": [
    "from PIL import Image\n",
    "\n",
    "image=Image.open('images\\mango.png')\n",
    "\n",
    "imageBox = image.getbbox()\n",
    "cropped=image.crop(imageBox)\n",
    "cropped.save('L_2d_cropped.png')"
   ]
  },
  {
   "cell_type": "code",
   "execution_count": null,
   "metadata": {},
   "outputs": [],
   "source": []
  }
 ],
 "metadata": {
  "interpreter": {
   "hash": "278a36768077690c6276af8081ae727eec4ecb104de42b20d6b6bd125dbea3fa"
  },
  "kernelspec": {
   "display_name": "Python 3.10.1 64-bit ('env': venv)",
   "language": "python",
   "name": "python3"
  },
  "language_info": {
   "codemirror_mode": {
    "name": "ipython",
    "version": 3
   },
   "file_extension": ".py",
   "mimetype": "text/x-python",
   "name": "python",
   "nbconvert_exporter": "python",
   "pygments_lexer": "ipython3",
   "version": "3.7.9"
  },
  "orig_nbformat": 4
 },
 "nbformat": 4,
 "nbformat_minor": 2
}
